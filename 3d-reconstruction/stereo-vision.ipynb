{
  "cells": [
    {
      "cell_type": "markdown",
      "metadata": {
        "language": "markdown"
      },
      "source": [
        "# Stereo Vision: Bản đồ độ chênh lệch (disparity map), Tái tạo 3D và Hình học Epipolar\n",
        "Notebook này minh họa cách tính toán bản đồ độ chênh lệch, tái tạo đám mây điểm 3D và ước lượng ma trận cơ bản để vẽ các đường epipolar sử dụng hình ảnh stereo."
      ]
    },
    {
      "cell_type": "markdown",
      "metadata": {
        "language": "markdown"
      },
      "source": [
        "## Bước 1: Nhập các thư viện cần thiết\n",
        "Chúng ta sẽ sử dụng OpenCV để xử lý hình ảnh và NumPy để tính toán số học."
      ]
    },
    {
      "cell_type": "code",
      "execution_count": null,
      "metadata": {
        "language": "python"
      },
      "outputs": [],
      "source": [
        "# Import libraries\n",
        "import cv2\n",
        "import numpy as np\n",
        "import matplotlib.pyplot as plt\n",
        "from mpl_toolkits.mplot3d import Axes3D"
      ]
    },
    {
      "cell_type": "markdown",
      "metadata": {
        "language": "markdown"
      },
      "source": [
        "## Bước 2: Tải hình ảnh Stereo\n",
        "Tải hình ảnh bên trái và bên phải cho tầm nhìn stereo."
      ]
    },
    {
      "cell_type": "code",
      "execution_count": null,
      "metadata": {
        "language": "python"
      },
      "outputs": [],
      "source": [
        "# Load stereo images\n",
        "left_image = cv2.imread('input/left.png', cv2.IMREAD_GRAYSCALE)\n",
        "right_image = cv2.imread('input/right.png', cv2.IMREAD_GRAYSCALE)\n",
        "\n",
        "# Display the images\n",
        "plt.figure(figsize=(10, 5))\n",
        "plt.subplot(1, 2, 1)\n",
        "plt.imshow(left_image, cmap='gray')\n",
        "plt.title('Left Image')\n",
        "plt.axis('off')\n",
        "\n",
        "plt.subplot(1, 2, 2)\n",
        "plt.imshow(right_image, cmap='gray')\n",
        "plt.title('Right Image')\n",
        "plt.axis('off')\n",
        "plt.show()"
      ]
    },
    {
      "cell_type": "markdown",
      "metadata": {
        "language": "markdown"
      },
      "source": [
        "## Bước 3: Tính toán Bản đồ Độ chênh lệch\n",
        "Sử dụng Stereo Block Matching (BM) hoặc Stereo Global Block Matching (SGBM) để tính toán bản đồ độ chênh lệch."
      ]
    },
    {
      "cell_type": "code",
      "execution_count": null,
      "metadata": {
        "language": "python"
      },
      "outputs": [],
      "source": [
        "# Compute disparity map using StereoSGBM\n",
        "stereo = cv2.StereoSGBM_create(\n",
        "    minDisparity=0,\n",
        "    numDisparities=16*5,  # Must be divisible by 16\n",
        "    blockSize=5,\n",
        "    P1=8*3*5**2,\n",
        "    P2=32*3*5**2,\n",
        "    disp12MaxDiff=1,\n",
        "    uniquenessRatio=10,\n",
        "    speckleWindowSize=100,\n",
        "    speckleRange=32\n",
        ")\n",
        "\n",
        "disparity = stereo.compute(left_image, right_image).astype(np.float32) / 16.0\n",
        "\n",
        "# Display disparity map\n",
        "plt.figure(figsize=(10, 5))\n",
        "plt.imshow(disparity, cmap='plasma')\n",
        "plt.colorbar()\n",
        "plt.title('Disparity Map')\n",
        "plt.axis('off')\n",
        "plt.show()"
      ]
    },
    {
      "cell_type": "markdown",
      "metadata": {
        "language": "markdown"
      },
      "source": [
        "## Bước 4: Tái tạo Đám mây Điểm 3D\n",
        "Tái tạo đám mây điểm 3D sử dụng bản đồ độ chênh lệch và các tham số camera."
      ]
    },
    {
      "cell_type": "code",
      "execution_count": null,
      "metadata": {
        "language": "python"
      },
      "outputs": [],
      "source": [
        "# Define camera parameters\n",
        "focal_length = 1.0  # Example focal length\n",
        "baseline = 0.1  # Example baseline in meters\n",
        "\n",
        "# Reconstruct 3D points\n",
        "h, w = left_image.shape\n",
        "Q = np.float32([[1, 0, 0, -w/2],\n",
        "                [0, -1, 0, h/2],\n",
        "                [0, 0, 0, -focal_length],\n",
        "                [0, 0, 1/baseline, 0]])\n",
        "\n",
        "points_3D = cv2.reprojectImageTo3D(disparity, Q)\n",
        "mask = disparity > disparity.min()\n",
        "points_3D = points_3D[mask]\n",
        "\n",
        "# Visualize point cloud\n",
        "fig = plt.figure(figsize=(10, 7))\n",
        "ax = fig.add_subplot(111, projection='3d')\n",
        "ax.scatter(points_3D[:, 0], points_3D[:, 1], points_3D[:, 2], s=0.1, c=points_3D[:, 2], cmap='plasma')\n",
        "plt.title('3D Point Cloud')\n",
        "plt.show()"
      ]
    },
    {
      "cell_type": "markdown",
      "metadata": {
        "language": "markdown"
      },
      "source": [
        "## Bước 5: Ước lượng Ma trận Cơ bản và Vẽ các Đường Epipolar\n",
        "Ước lượng ma trận cơ bản sử dụng các điểm tương ứng và vẽ các đường epipolar trên các hình ảnh đầu vào."
      ]
    },
    {
      "cell_type": "code",
      "execution_count": null,
      "metadata": {
        "language": "python"
      },
      "outputs": [],
      "source": [
        "# Detect keypoints and match features\n",
        "orb = cv2.ORB_create()\n",
        "kp1, des1 = orb.detectAndCompute(left_image, None)\n",
        "kp2, des2 = orb.detectAndCompute(right_image, None)\n",
        "\n",
        "bf = cv2.BFMatcher(cv2.NORM_HAMMING, crossCheck=True)\n",
        "matches = bf.match(des1, des2)\n",
        "matches = sorted(matches, key=lambda x: x.distance)\n",
        "\n",
        "# Extract matched points\n",
        "pts1 = np.float32([kp1[m.queryIdx].pt for m in matches])\n",
        "pts2 = np.float32([kp2[m.trainIdx].pt for m in matches])\n",
        "\n",
        "# Estimate fundamental matrix\n",
        "F, mask = cv2.findFundamentalMat(pts1, pts2, cv2.FM_RANSAC)\n",
        "\n",
        "# Draw epipolar lines\n",
        "def draw_epipolar_lines(img1, img2, lines, pts1, pts2):\n",
        "    img1_color = cv2.cvtColor(img1, cv2.COLOR_GRAY2BGR)\n",
        "    img2_color = cv2.cvtColor(img2, cv2.COLOR_GRAY2BGR)\n",
        "    for r, pt1, pt2 in zip(lines, pts1, pts2):\n",
        "        color = tuple(np.random.randint(0, 255, 3).tolist())\n",
        "        x0, y0 = map(int, [0, -r[2] / r[1]])\n",
        "        x1, y1 = map(int, [img1.shape[1], -(r[2] + r[0] * img1.shape[1]) / r[1]])\n",
        "        img1_color = cv2.line(img1_color, (x0, y0), (x1, y1), color, 1)\n",
        "        img1_color = cv2.circle(img1_color, tuple(pt1), 5, color, -1)\n",
        "        img2_color = cv2.circle(img2_color, tuple(pt2), 5, color, -1)\n",
        "    return img1_color, img2_color\n",
        "\n",
        "lines1 = cv2.computeCorrespondEpilines(pts2.reshape(-1, 1, 2), 2, F).reshape(-1, 3)\n",
        "img1_epilines, img2_epilines = draw_epipolar_lines(left_image, right_image, lines1, pts1, pts2)\n",
        "\n",
        "# Display images with epipolar lines\n",
        "plt.figure(figsize=(15, 5))\n",
        "plt.subplot(1, 2, 1)\n",
        "plt.imshow(img1_epilines)\n",
        "plt.title('Epipolar Lines on Left Image')\n",
        "plt.axis('off')\n",
        "\n",
        "plt.subplot(1, 2, 2)\n",
        "plt.imshow(img2_epilines)\n",
        "plt.title('Epipolar Lines on Right Image')\n",
        "plt.axis('off')\n",
        "plt.show()"
      ]
    }
  ],
  "metadata": {
    "language_info": {
      "name": "python"
    }
  },
  "nbformat": 4,
  "nbformat_minor": 5
}
